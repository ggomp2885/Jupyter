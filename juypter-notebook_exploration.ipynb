{
 "cells": [
  {
   "cell_type": "markdown",
   "metadata": {},
   "source": [
    "# This notebook is for exploring the cell magic functions in Juypter Notebooks"
   ]
  },
  {
   "cell_type": "markdown",
   "metadata": {},
   "source": [
    "### General Notes\n",
    "Many third party functions specifically for JN's must be installed through JN first\n",
    "\n",
    "Line magic uses %\n",
    "\n",
    "Cell magic uses %%"
   ]
  },
  {
   "cell_type": "code",
   "execution_count": null,
   "metadata": {},
   "outputs": [],
   "source": [
    "# Imports / Setup\n",
    "\n",
    "    # These 3 lines will display every cells execution time automatically - must run in first cell\n",
    "# pip install jupyter_contrib_nbextensions\n",
    "# jupyter contrib nbextension install --user\n",
    "# jupyter nbextension enable execute_time/ExecuteTime"
   ]
  },
  {
   "cell_type": "code",
   "execution_count": null,
   "metadata": {},
   "outputs": [],
   "source": [
    "# Cell Magic Commands\n",
    "# %%time                               - Computes the time taken for the cell (must be the very first line of cell, even before comments)\n",
    "# %who                                 - Displays all variables saved in notebook\n",
    "# %run file_name.extension             - Runs any file on pc\n",
    "# %load file_name.extension            - Loads the code from any file, directly into that cell\n",
    "\n",
    "\n",
    "    # Older, depreciated commands to be aware of\n",
    "# %matplotlib inline                        - not needed anymore, but still found in older notebooks\n"
   ]
  },
  {
   "cell_type": "code",
   "execution_count": null,
   "metadata": {},
   "outputs": [],
   "source": [
    "# Working Example Code\n"
   ]
  }
 ],
 "metadata": {
  "kernelspec": {
   "display_name": "Python 3",
   "language": "python",
   "name": "python3"
  },
  "language_info": {
   "codemirror_mode": {
    "name": "ipython",
    "version": 3
   },
   "file_extension": ".py",
   "mimetype": "text/x-python",
   "name": "python",
   "nbconvert_exporter": "python",
   "pygments_lexer": "ipython3",
   "version": "3.8.3"
  }
 },
 "nbformat": 4,
 "nbformat_minor": 4
}
